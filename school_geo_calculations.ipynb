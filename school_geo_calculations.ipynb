{
 "cells": [
  {
   "cell_type": "markdown",
   "metadata": {},
   "source": [
    "***All data in this workbook has been obfuscated and then randomised for privacy & legal reasons***"
   ]
  },
  {
   "cell_type": "code",
   "execution_count": 1,
   "metadata": {},
   "outputs": [],
   "source": [
    "import gc\n",
    "import pandas as pd\n",
    "import numpy as np\n",
    "from copy import deepcopy\n",
    "from math import radians, sqrt, sin, cos, atan2"
   ]
  },
  {
   "cell_type": "code",
   "execution_count": 2,
   "metadata": {},
   "outputs": [],
   "source": [
    "# Define the earth's curvature distance calculation that will be used later in this workbook\n",
    "def geocalc(lat1, lon1, lat2, lon2):\n",
    "    lat1 = radians(lat1)\n",
    "    lon1 = radians(lon1)\n",
    "    lat2 = radians(lat2)\n",
    "    lon2 = radians(lon2)\n",
    "\n",
    "    dlon = lon1 - lon2\n",
    "\n",
    "    EARTH_R = 6372.8\n",
    "\n",
    "    y = sqrt(\n",
    "        (cos(lat2) * sin(dlon)) ** 2\n",
    "        + (cos(lat1) * sin(lat2) - sin(lat1) * cos(lat2) * cos(dlon)) ** 2\n",
    "        )\n",
    "    x = sin(lat1) * sin(lat2) + cos(lat1) * cos(lat2) * cos(dlon)\n",
    "    c = atan2(y, x)\n",
    "    return EARTH_R * c\n"
   ]
  },
  {
   "cell_type": "code",
   "execution_count": 3,
   "metadata": {},
   "outputs": [],
   "source": [
    "schoolData = pd.read_csv('school_master.csv', encoding='latin-1')"
   ]
  },
  {
   "cell_type": "markdown",
   "metadata": {},
   "source": [
    "***Prepare the data set for use***"
   ]
  },
  {
   "cell_type": "code",
   "execution_count": 4,
   "metadata": {},
   "outputs": [
    {
     "name": "stdout",
     "output_type": "stream",
     "text": [
      "Dropping 820 schools with no ICSEA\n",
      "8726\n",
      "Outer joining all schools...\n",
      "Done joining all schools.\n"
     ]
    },
    {
     "data": {
      "text/plain": [
       "35"
      ]
     },
     "execution_count": 4,
     "metadata": {},
     "output_type": "execute_result"
    }
   ],
   "source": [
    "d = deepcopy(schoolData[['ACARA School ID', 'Latitude', 'Longitude', 'ICSEA', 'Teaching Staff']])\n",
    "print('Dropping %i schools with no ICSEA' % len(d[(d['ICSEA'].isnull())]))\n",
    "d = d[(d['ICSEA'].notnull())]\n",
    "print(len(d))\n",
    "d['Teaching Staff'].fillna(1, inplace=True)\n",
    "d['joiner'] = 1\n",
    "\n",
    "print('Outer joining all schools...')\n",
    "d = pd.merge(d, d, on='joiner', how='outer')\n",
    "d.drop('joiner', axis=1, inplace=True)\n",
    "print('Done joining all schools.')\n",
    "\n",
    "gc.collect()"
   ]
  },
  {
   "cell_type": "code",
   "execution_count": 5,
   "metadata": {},
   "outputs": [
    {
     "name": "stdout",
     "output_type": "stream",
     "text": [
      "Removing self-references...\n",
      "Done removing self-references.\n",
      "Data set is length 76134350\n"
     ]
    },
    {
     "data": {
      "text/plain": [
       "0"
      ]
     },
     "execution_count": 5,
     "metadata": {},
     "output_type": "execute_result"
    }
   ],
   "source": [
    "print('Removing self-references...')\n",
    "d = d[d['ACARA School ID_x'] != d['ACARA School ID_y']]\n",
    "print('Done removing self-references.')\n",
    "print('Data set is length %i' % len(d))\n",
    "\n",
    "gc.collect()"
   ]
  },
  {
   "cell_type": "code",
   "execution_count": 6,
   "metadata": {},
   "outputs": [],
   "source": [
    "d.rename({'distances': 'distance'}, axis=1, inplace=True)"
   ]
  },
  {
   "cell_type": "markdown",
   "metadata": {},
   "source": [
    "***Calculate the full distance matrix***"
   ]
  },
  {
   "cell_type": "code",
   "execution_count": 7,
   "metadata": {},
   "outputs": [
    {
     "name": "stdout",
     "output_type": "stream",
     "text": [
      "Performing geo-calculations...\n",
      "0, 1000000, 2000000, 3000000, 4000000, 5000000, 6000000, 7000000, 8000000, 9000000, 10000000, 11000000, 12000000, 13000000, 14000000, 15000000, 16000000, 17000000, 18000000, 19000000, 20000000, 21000000, 22000000, 23000000, 24000000, 25000000, 26000000, 27000000, 28000000, 29000000, 30000000, 31000000, 32000000, 33000000, 34000000, 35000000, 36000000, 37000000, 38000000, 39000000, 40000000, 41000000, 42000000, 43000000, 44000000, 45000000, 46000000, 47000000, 48000000, 49000000, 50000000, 51000000, 52000000, 53000000, 54000000, 55000000, 56000000, 57000000, 58000000, 59000000, 60000000, 61000000, 62000000, 63000000, 64000000, 65000000, 66000000, 67000000, 68000000, 69000000, 70000000, 71000000, 72000000, 73000000, 74000000, 75000000, 76000000, Done.\n",
      "Done performing geo-calculations.\n"
     ]
    },
    {
     "data": {
      "text/html": [
       "<div>\n",
       "<style scoped>\n",
       "    .dataframe tbody tr th:only-of-type {\n",
       "        vertical-align: middle;\n",
       "    }\n",
       "\n",
       "    .dataframe tbody tr th {\n",
       "        vertical-align: top;\n",
       "    }\n",
       "\n",
       "    .dataframe thead th {\n",
       "        text-align: right;\n",
       "    }\n",
       "</style>\n",
       "<table border=\"1\" class=\"dataframe\">\n",
       "  <thead>\n",
       "    <tr style=\"text-align: right;\">\n",
       "      <th></th>\n",
       "      <th>ACARA School ID_x</th>\n",
       "      <th>Latitude_x</th>\n",
       "      <th>Longitude_x</th>\n",
       "      <th>ICSEA_x</th>\n",
       "      <th>Teaching Staff_x</th>\n",
       "      <th>ACARA School ID_y</th>\n",
       "      <th>Latitude_y</th>\n",
       "      <th>Longitude_y</th>\n",
       "      <th>ICSEA_y</th>\n",
       "      <th>Teaching Staff_y</th>\n",
       "      <th>distance</th>\n",
       "    </tr>\n",
       "  </thead>\n",
       "  <tbody>\n",
       "    <tr>\n",
       "      <th>1</th>\n",
       "      <td>1</td>\n",
       "      <td>-43.317561</td>\n",
       "      <td>147.246052</td>\n",
       "      <td>1063.0</td>\n",
       "      <td>29.0</td>\n",
       "      <td>2</td>\n",
       "      <td>-43.310083</td>\n",
       "      <td>147.013034</td>\n",
       "      <td>1130.0</td>\n",
       "      <td>40.0</td>\n",
       "      <td>18.876279</td>\n",
       "    </tr>\n",
       "    <tr>\n",
       "      <th>2</th>\n",
       "      <td>1</td>\n",
       "      <td>-43.317561</td>\n",
       "      <td>147.246052</td>\n",
       "      <td>1063.0</td>\n",
       "      <td>29.0</td>\n",
       "      <td>3</td>\n",
       "      <td>-43.165474</td>\n",
       "      <td>146.943967</td>\n",
       "      <td>969.0</td>\n",
       "      <td>20.0</td>\n",
       "      <td>29.753167</td>\n",
       "    </tr>\n",
       "    <tr>\n",
       "      <th>3</th>\n",
       "      <td>1</td>\n",
       "      <td>-43.317561</td>\n",
       "      <td>147.246052</td>\n",
       "      <td>1063.0</td>\n",
       "      <td>29.0</td>\n",
       "      <td>4</td>\n",
       "      <td>-43.164652</td>\n",
       "      <td>147.239683</td>\n",
       "      <td>987.0</td>\n",
       "      <td>28.0</td>\n",
       "      <td>17.015299</td>\n",
       "    </tr>\n",
       "  </tbody>\n",
       "</table>\n",
       "</div>"
      ],
      "text/plain": [
       "   ACARA School ID_x  Latitude_x  Longitude_x  ICSEA_x  Teaching Staff_x  \\\n",
       "1                  1  -43.317561   147.246052   1063.0              29.0   \n",
       "2                  1  -43.317561   147.246052   1063.0              29.0   \n",
       "3                  1  -43.317561   147.246052   1063.0              29.0   \n",
       "\n",
       "   ACARA School ID_y  Latitude_y  Longitude_y  ICSEA_y  Teaching Staff_y  \\\n",
       "1                  2  -43.310083   147.013034   1130.0              40.0   \n",
       "2                  3  -43.165474   146.943967    969.0              20.0   \n",
       "3                  4  -43.164652   147.239683    987.0              28.0   \n",
       "\n",
       "    distance  \n",
       "1  18.876279  \n",
       "2  29.753167  \n",
       "3  17.015299  "
      ]
     },
     "execution_count": 7,
     "metadata": {},
     "output_type": "execute_result"
    }
   ],
   "source": [
    "lat1s = d['Latitude_x'].values\n",
    "lon1s = d['Longitude_x'].values\n",
    "lat2s = d['Latitude_y'].values\n",
    "lon2s = d['Longitude_y'].values\n",
    "\n",
    "distances = np.zeros(len(d))\n",
    "\n",
    "print('Performing geo-calculations...')\n",
    "for i in range(len(distances)):\n",
    "    if i % 1000000 == 0:\n",
    "        print(i, end=', ')\n",
    "    distances[i] = geocalc(lat1s[i], lon1s[i], lat2s[i], lon2s[i])\n",
    "print('Done.')\n",
    "d['distance'] = distances\n",
    "print('Done performing geo-calculations.')\n",
    "\n",
    "d.head(3)"
   ]
  },
  {
   "cell_type": "code",
   "execution_count": 8,
   "metadata": {},
   "outputs": [],
   "source": [
    "# Limit the distance to the highest used, to cut down on calculation size in the next step\n",
    "x = d[d['distance'] <= 70]"
   ]
  },
  {
   "cell_type": "markdown",
   "metadata": {},
   "source": [
    "***Create school-school distance pairs for easy display in Tableau***"
   ]
  },
  {
   "cell_type": "code",
   "execution_count": 9,
   "metadata": {},
   "outputs": [
    {
     "name": "stdout",
     "output_type": "stream",
     "text": [
      "Calculating range 2...\n",
      "Calculating range 3...\n",
      "Calculating range 4...\n",
      "Calculating range 2...\n",
      "Calculating range 3...\n",
      "Calculating range 4...\n",
      "Calculating range 2...\n",
      "Calculating range 3...\n",
      "Calculating range 4...\n",
      "Calculating range 2...\n",
      "Calculating range 3...\n",
      "Calculating range 4...\n"
     ]
    },
    {
     "data": {
      "text/html": [
       "<div>\n",
       "<style scoped>\n",
       "    .dataframe tbody tr th:only-of-type {\n",
       "        vertical-align: middle;\n",
       "    }\n",
       "\n",
       "    .dataframe tbody tr th {\n",
       "        vertical-align: top;\n",
       "    }\n",
       "\n",
       "    .dataframe thead th {\n",
       "        text-align: right;\n",
       "    }\n",
       "</style>\n",
       "<table border=\"1\" class=\"dataframe\">\n",
       "  <thead>\n",
       "    <tr style=\"text-align: right;\">\n",
       "      <th></th>\n",
       "      <th>ACARA School ID</th>\n",
       "      <th>distance</th>\n",
       "      <th>icsea_minimum_2</th>\n",
       "      <th>teachers_minimum_2</th>\n",
       "      <th>icsea_minimum_3</th>\n",
       "      <th>teachers_minimum_3</th>\n",
       "      <th>icsea_minimum_4</th>\n",
       "      <th>teachers_minimum_4</th>\n",
       "    </tr>\n",
       "  </thead>\n",
       "  <tbody>\n",
       "    <tr>\n",
       "      <th>0</th>\n",
       "      <td>1</td>\n",
       "      <td>1000</td>\n",
       "      <td>1063.0</td>\n",
       "      <td>29.0</td>\n",
       "      <td>1063.0</td>\n",
       "      <td>29.0</td>\n",
       "      <td>1063.0</td>\n",
       "      <td>29.0</td>\n",
       "    </tr>\n",
       "    <tr>\n",
       "      <th>1</th>\n",
       "      <td>2</td>\n",
       "      <td>1000</td>\n",
       "      <td>1130.0</td>\n",
       "      <td>40.0</td>\n",
       "      <td>1130.0</td>\n",
       "      <td>40.0</td>\n",
       "      <td>1130.0</td>\n",
       "      <td>40.0</td>\n",
       "    </tr>\n",
       "    <tr>\n",
       "      <th>2</th>\n",
       "      <td>3</td>\n",
       "      <td>1000</td>\n",
       "      <td>969.0</td>\n",
       "      <td>20.0</td>\n",
       "      <td>969.0</td>\n",
       "      <td>20.0</td>\n",
       "      <td>969.0</td>\n",
       "      <td>20.0</td>\n",
       "    </tr>\n",
       "    <tr>\n",
       "      <th>3</th>\n",
       "      <td>4</td>\n",
       "      <td>1000</td>\n",
       "      <td>987.0</td>\n",
       "      <td>28.0</td>\n",
       "      <td>987.0</td>\n",
       "      <td>28.0</td>\n",
       "      <td>987.0</td>\n",
       "      <td>28.0</td>\n",
       "    </tr>\n",
       "    <tr>\n",
       "      <th>4</th>\n",
       "      <td>5</td>\n",
       "      <td>1000</td>\n",
       "      <td>1006.0</td>\n",
       "      <td>14.0</td>\n",
       "      <td>1006.0</td>\n",
       "      <td>14.0</td>\n",
       "      <td>1006.0</td>\n",
       "      <td>14.0</td>\n",
       "    </tr>\n",
       "  </tbody>\n",
       "</table>\n",
       "</div>"
      ],
      "text/plain": [
       "   ACARA School ID  distance  icsea_minimum_2  teachers_minimum_2  \\\n",
       "0                1      1000           1063.0                29.0   \n",
       "1                2      1000           1130.0                40.0   \n",
       "2                3      1000            969.0                20.0   \n",
       "3                4      1000            987.0                28.0   \n",
       "4                5      1000           1006.0                14.0   \n",
       "\n",
       "   icsea_minimum_3  teachers_minimum_3  icsea_minimum_4  teachers_minimum_4  \n",
       "0           1063.0                29.0           1063.0                29.0  \n",
       "1           1130.0                40.0           1130.0                40.0  \n",
       "2            969.0                20.0            969.0                20.0  \n",
       "3            987.0                28.0            987.0                28.0  \n",
       "4           1006.0                14.0           1006.0                14.0  "
      ]
     },
     "execution_count": 9,
     "metadata": {},
     "output_type": "execute_result"
    }
   ],
   "source": [
    "y = d[d['distance'] <= 1000]\n",
    "cFrames = []\n",
    "dist = 70\n",
    "for dist in [1000, 70, 60, 50]:\n",
    "    # These are the set distances that the calculations need to be done for\n",
    "    a = y[y['distance'] <= dist]\n",
    "    a = a[['ACARA School ID_x', 'ICSEA_x', 'ICSEA_y', 'Teaching Staff_x', 'Teaching Staff_y']]\n",
    "    a['icsea_rank'] = a.groupby('ACARA School ID_x')['ICSEA_y'].rank(ascending=True, method='first')\n",
    "    a['teachers_rank'] = a.groupby('ACARA School ID_x')['Teaching Staff_y'].rank(ascending=True, method='first')\n",
    "    out = pd.DataFrame()\n",
    "    out['ACARA School ID'] = a['ACARA School ID_x'].unique()\n",
    "    for i in range(1, 4):\n",
    "        print('Calculating range ' + str(i+1) + '...')\n",
    "        b = a[a['icsea_rank'] == i].drop_duplicates(subset=['ACARA School ID_x', 'icsea_rank'])\n",
    "        # If statements are for the 1000 case, we want them to just be the school's personal numbers so they can't be\n",
    "        # part of the normal loop\n",
    "        if dist == 1000:\n",
    "            b['icsea_minimum_' + str(i+1)] = b['ICSEA_x']\n",
    "        else:\n",
    "            b['icsea_minimum_' + str(i+1)] = np.maximum(b['ICSEA_x'], b['ICSEA_y'])\n",
    "        out = pd.merge(out, deepcopy(b[['ACARA School ID_x', 'icsea_minimum_' + str(i+1)]]), left_on='ACARA School ID', right_on='ACARA School ID_x', how='left')\n",
    "        b = a[a['teachers_rank'] == i].drop_duplicates(subset=['ACARA School ID_x', 'teachers_rank'])\n",
    "        if dist == 1000:\n",
    "            b['teachers_minimum_' + str(i+1)] = b['Teaching Staff_x']\n",
    "        else:\n",
    "            b['teachers_minimum_' + str(i+1)] = np.minimum(b['Teaching Staff_x'], b['Teaching Staff_y'])\n",
    "        out = pd.merge(out, deepcopy(b[['ACARA School ID_x', 'teachers_minimum_' + str(i+1)]]), left_on='ACARA School ID', right_on='ACARA School ID_x', how='left')\n",
    "    out['distance'] = dist\n",
    "    out = out[['ACARA School ID', 'distance', 'icsea_minimum_2', 'teachers_minimum_2', 'icsea_minimum_3', 'teachers_minimum_3', 'icsea_minimum_4', 'teachers_minimum_4']]\n",
    "    cFrames.append(deepcopy(out))\n",
    "out = pd.concat(cFrames)\n",
    "out.head(5)"
   ]
  },
  {
   "cell_type": "markdown",
   "metadata": {},
   "source": [
    "***Export***"
   ]
  },
  {
   "cell_type": "code",
   "execution_count": 10,
   "metadata": {},
   "outputs": [],
   "source": [
    "schoolData = pd.merge(out, schoolData, on='ACARA School ID', how='right')\n",
    "schoolData = schoolData[schoolData['distance'].notnull()]"
   ]
  },
  {
   "cell_type": "code",
   "execution_count": 11,
   "metadata": {},
   "outputs": [
    {
     "data": {
      "text/html": [
       "<div>\n",
       "<style scoped>\n",
       "    .dataframe tbody tr th:only-of-type {\n",
       "        vertical-align: middle;\n",
       "    }\n",
       "\n",
       "    .dataframe tbody tr th {\n",
       "        vertical-align: top;\n",
       "    }\n",
       "\n",
       "    .dataframe thead th {\n",
       "        text-align: right;\n",
       "    }\n",
       "</style>\n",
       "<table border=\"1\" class=\"dataframe\">\n",
       "  <thead>\n",
       "    <tr style=\"text-align: right;\">\n",
       "      <th></th>\n",
       "      <th>ACARA School ID</th>\n",
       "      <th>distance</th>\n",
       "      <th>icsea_minimum_2</th>\n",
       "      <th>teachers_minimum_2</th>\n",
       "      <th>icsea_minimum_3</th>\n",
       "      <th>teachers_minimum_3</th>\n",
       "      <th>icsea_minimum_4</th>\n",
       "      <th>teachers_minimum_4</th>\n",
       "      <th>AGE ID</th>\n",
       "      <th>School Name</th>\n",
       "      <th>...</th>\n",
       "      <th>C2018 placements</th>\n",
       "      <th>C2018</th>\n",
       "      <th>Total placements</th>\n",
       "      <th>Current TFA partner school</th>\n",
       "      <th>TFA placement school</th>\n",
       "      <th>2018 PAN member</th>\n",
       "      <th>TLA</th>\n",
       "      <th>TTL school</th>\n",
       "      <th>Alumni at school</th>\n",
       "      <th>Duplicates</th>\n",
       "    </tr>\n",
       "  </thead>\n",
       "  <tbody>\n",
       "    <tr>\n",
       "      <th>0</th>\n",
       "      <td>1</td>\n",
       "      <td>1000.0</td>\n",
       "      <td>1063.0</td>\n",
       "      <td>29.0</td>\n",
       "      <td>1063.0</td>\n",
       "      <td>29.0</td>\n",
       "      <td>1063.0</td>\n",
       "      <td>29.0</td>\n",
       "      <td>3.0</td>\n",
       "      <td>obfuscated_1</td>\n",
       "      <td>...</td>\n",
       "      <td>NaN</td>\n",
       "      <td>NaN</td>\n",
       "      <td>NaN</td>\n",
       "      <td>NaN</td>\n",
       "      <td>NaN</td>\n",
       "      <td>NaN</td>\n",
       "      <td>NaN</td>\n",
       "      <td>NaN</td>\n",
       "      <td>NaN</td>\n",
       "      <td>NaN</td>\n",
       "    </tr>\n",
       "    <tr>\n",
       "      <th>1</th>\n",
       "      <td>1</td>\n",
       "      <td>70.0</td>\n",
       "      <td>1063.0</td>\n",
       "      <td>3.0</td>\n",
       "      <td>1063.0</td>\n",
       "      <td>5.0</td>\n",
       "      <td>1063.0</td>\n",
       "      <td>7.0</td>\n",
       "      <td>3.0</td>\n",
       "      <td>obfuscated_1</td>\n",
       "      <td>...</td>\n",
       "      <td>NaN</td>\n",
       "      <td>NaN</td>\n",
       "      <td>NaN</td>\n",
       "      <td>NaN</td>\n",
       "      <td>NaN</td>\n",
       "      <td>NaN</td>\n",
       "      <td>NaN</td>\n",
       "      <td>NaN</td>\n",
       "      <td>NaN</td>\n",
       "      <td>NaN</td>\n",
       "    </tr>\n",
       "    <tr>\n",
       "      <th>2</th>\n",
       "      <td>1</td>\n",
       "      <td>60.0</td>\n",
       "      <td>1063.0</td>\n",
       "      <td>3.0</td>\n",
       "      <td>1063.0</td>\n",
       "      <td>7.0</td>\n",
       "      <td>1063.0</td>\n",
       "      <td>8.0</td>\n",
       "      <td>3.0</td>\n",
       "      <td>obfuscated_1</td>\n",
       "      <td>...</td>\n",
       "      <td>NaN</td>\n",
       "      <td>NaN</td>\n",
       "      <td>NaN</td>\n",
       "      <td>NaN</td>\n",
       "      <td>NaN</td>\n",
       "      <td>NaN</td>\n",
       "      <td>NaN</td>\n",
       "      <td>NaN</td>\n",
       "      <td>NaN</td>\n",
       "      <td>NaN</td>\n",
       "    </tr>\n",
       "  </tbody>\n",
       "</table>\n",
       "<p>3 rows × 77 columns</p>\n",
       "</div>"
      ],
      "text/plain": [
       "   ACARA School ID  distance  icsea_minimum_2  teachers_minimum_2  \\\n",
       "0                1    1000.0           1063.0                29.0   \n",
       "1                1      70.0           1063.0                 3.0   \n",
       "2                1      60.0           1063.0                 3.0   \n",
       "\n",
       "   icsea_minimum_3  teachers_minimum_3  icsea_minimum_4  teachers_minimum_4  \\\n",
       "0           1063.0                29.0           1063.0                29.0   \n",
       "1           1063.0                 5.0           1063.0                 7.0   \n",
       "2           1063.0                 7.0           1063.0                 8.0   \n",
       "\n",
       "   AGE ID   School Name     ...     C2018 placements C2018  Total placements  \\\n",
       "0     3.0  obfuscated_1     ...                  NaN   NaN               NaN   \n",
       "1     3.0  obfuscated_1     ...                  NaN   NaN               NaN   \n",
       "2     3.0  obfuscated_1     ...                  NaN   NaN               NaN   \n",
       "\n",
       "  Current TFA partner school TFA placement school 2018 PAN member  TLA  \\\n",
       "0                        NaN                  NaN             NaN  NaN   \n",
       "1                        NaN                  NaN             NaN  NaN   \n",
       "2                        NaN                  NaN             NaN  NaN   \n",
       "\n",
       "   TTL school  Alumni at school  Duplicates  \n",
       "0         NaN               NaN         NaN  \n",
       "1         NaN               NaN         NaN  \n",
       "2         NaN               NaN         NaN  \n",
       "\n",
       "[3 rows x 77 columns]"
      ]
     },
     "execution_count": 11,
     "metadata": {},
     "output_type": "execute_result"
    }
   ],
   "source": [
    "schoolData.to_csv('School Geo Export.csv', index=False)\n",
    "schoolData.head(3)"
   ]
  }
 ],
 "metadata": {
  "kernelspec": {
   "display_name": "Python 3",
   "language": "python",
   "name": "python3"
  },
  "language_info": {
   "codemirror_mode": {
    "name": "ipython",
    "version": 3
   },
   "file_extension": ".py",
   "mimetype": "text/x-python",
   "name": "python",
   "nbconvert_exporter": "python",
   "pygments_lexer": "ipython3",
   "version": "3.6.6"
  }
 },
 "nbformat": 4,
 "nbformat_minor": 2
}
